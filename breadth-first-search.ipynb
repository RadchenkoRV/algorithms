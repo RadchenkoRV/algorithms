{
 "cells": [
  {
   "cell_type": "markdown",
   "metadata": {},
   "source": [
    "# Breadth First Search\n",
    "\n",
    "- uses graphs to map out problem\n",
    "- Directed graphs model one way relationships (me->you)\n",
    "- Undirected graphs model two way relationships (me<->you)\n",
    "- find whether a path from A->B exists \n",
    "- If the path exists it finds the shortest possible path\n",
    "- searches sequentially using queues, starts with all first level connections before moving to second and so on\n",
    "- Queues are FIFO, items added to the queue first and dequeued first"
   ]
  },
  {
   "cell_type": "code",
   "execution_count": 43,
   "metadata": {
    "collapsed": false
   },
   "outputs": [],
   "source": [
    "from collections import deque"
   ]
  },
  {
   "cell_type": "code",
   "execution_count": 44,
   "metadata": {
    "collapsed": true
   },
   "outputs": [],
   "source": [
    "search_queue = deque() # create a new queue"
   ]
  },
  {
   "cell_type": "code",
   "execution_count": 45,
   "metadata": {
    "collapsed": true
   },
   "outputs": [],
   "source": [
    "# model the relationships using a hash table\n",
    "\n",
    "graph = {}\n",
    "\n",
    "graph[\"you\"] = [\"marc\",\"joe\",\"tigran\"]  # first level connections\n",
    "graph[\"marc\"] = [\"soni\", \"rubin\"] #second level connections\n",
    "graph[\"joe\"] = [\"craig\"]\n",
    "graph[\"tigran\"] = [\"cici\",\"jingwen\"]\n",
    "graph[\"soni\"] = []  # third level connections\n",
    "graph[\"rubin\"] = []\n",
    "graph[\"cici\"] = []\n",
    "graph[\"jingwen\"] = []"
   ]
  },
  {
   "cell_type": "code",
   "execution_count": 46,
   "metadata": {
    "collapsed": true
   },
   "outputs": [],
   "source": [
    "search_queue += graph[\"you\"]  # add all first level connections to queue"
   ]
  },
  {
   "cell_type": "code",
   "execution_count": 47,
   "metadata": {
    "collapsed": true
   },
   "outputs": [],
   "source": [
    "def is_winner(person):\n",
    "    return person[-1] == 'g'"
   ]
  },
  {
   "cell_type": "code",
   "execution_count": 48,
   "metadata": {
    "collapsed": false
   },
   "outputs": [],
   "source": [
    "def breath_first_search(search_queue):\n",
    "    while search_queue: # while queue isn't empty\n",
    "        person = search_queue.popleft()   # grabs first item in queue\n",
    "        if is_winner(person):  # if you found the person\n",
    "            print(\"Found the winner:\", person)\n",
    "            return True\n",
    "        else:\n",
    "            search_queue += graph[person]  # add all the persons connections to end of the queue\n",
    "    return False"
   ]
  },
  {
   "cell_type": "code",
   "execution_count": 49,
   "metadata": {
    "collapsed": false
   },
   "outputs": [
    {
     "name": "stdout",
     "output_type": "stream",
     "text": [
      "Found the winner: craig\n"
     ]
    },
    {
     "data": {
      "text/plain": [
       "True"
      ]
     },
     "execution_count": 49,
     "metadata": {},
     "output_type": "execute_result"
    }
   ],
   "source": [
    "breath_first_search(search_queue)"
   ]
  },
  {
   "cell_type": "code",
   "execution_count": 51,
   "metadata": {
    "collapsed": true
   },
   "outputs": [],
   "source": [
    "# writing the function differently to start from any node\n",
    "# and keep track of checked nodes\n",
    "\n",
    "def search(name):\n",
    "    search_queue = deque()\n",
    "    search_queue += graph[name]\n",
    "    searched = []  #keep track of searched nodes\n",
    "    \n",
    "    while search_queue:\n",
    "        person = search_queue.popleft()\n",
    "        if not person in searched:  # if person has not been searched\n",
    "            if is_winner(person):\n",
    "                print(\"Found the winner:\",person)\n",
    "                return True\n",
    "            else:\n",
    "                search_queue += graph[person]\n",
    "                searched.append(person)  # add person to searched node\n",
    "    return False"
   ]
  },
  {
   "cell_type": "code",
   "execution_count": 52,
   "metadata": {
    "collapsed": false
   },
   "outputs": [
    {
     "name": "stdout",
     "output_type": "stream",
     "text": [
      "Found the winner: craig\n"
     ]
    },
    {
     "data": {
      "text/plain": [
       "True"
      ]
     },
     "execution_count": 52,
     "metadata": {},
     "output_type": "execute_result"
    }
   ],
   "source": [
    "search('you')"
   ]
  },
  {
   "cell_type": "code",
   "execution_count": 53,
   "metadata": {
    "collapsed": false
   },
   "outputs": [
    {
     "data": {
      "text/plain": [
       "False"
      ]
     },
     "execution_count": 53,
     "metadata": {},
     "output_type": "execute_result"
    }
   ],
   "source": [
    "search('marc')"
   ]
  },
  {
   "cell_type": "code",
   "execution_count": 54,
   "metadata": {
    "collapsed": false
   },
   "outputs": [
    {
     "name": "stdout",
     "output_type": "stream",
     "text": [
      "Found the winner: craig\n"
     ]
    },
    {
     "data": {
      "text/plain": [
       "True"
      ]
     },
     "execution_count": 54,
     "metadata": {},
     "output_type": "execute_result"
    }
   ],
   "source": [
    "search('joe')"
   ]
  },
  {
   "cell_type": "code",
   "execution_count": null,
   "metadata": {
    "collapsed": true
   },
   "outputs": [],
   "source": []
  }
 ],
 "metadata": {
  "kernelspec": {
   "display_name": "Python 3",
   "language": "python",
   "name": "python3"
  },
  "language_info": {
   "codemirror_mode": {
    "name": "ipython",
    "version": 3
   },
   "file_extension": ".py",
   "mimetype": "text/x-python",
   "name": "python",
   "nbconvert_exporter": "python",
   "pygments_lexer": "ipython3",
   "version": "3.5.2"
  }
 },
 "nbformat": 4,
 "nbformat_minor": 2
}
